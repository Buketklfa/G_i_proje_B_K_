{
  "metadata": {
    "kernelspec": {
      "language": "python",
      "display_name": "Python 3",
      "name": "python3"
    },
    "language_info": {
      "name": "python",
      "version": "3.10.12",
      "mimetype": "text/x-python",
      "codemirror_mode": {
        "name": "ipython",
        "version": 3
      },
      "pygments_lexer": "ipython3",
      "nbconvert_exporter": "python",
      "file_extension": ".py"
    },
    "kaggle": {
      "accelerator": "none",
      "dataSources": [
        {
          "sourceId": 2333429,
          "sourceType": "datasetVersion",
          "datasetId": 1408532
        }
      ],
      "dockerImageVersionId": 30822,
      "isInternetEnabled": true,
      "language": "python",
      "sourceType": "notebook",
      "isGpuEnabled": false
    },
    "colab": {
      "name": "G_i_proje_bk_",
      "provenance": []
    }
  },
  "nbformat_minor": 0,
  "nbformat": 4,
  "cells": [
    {
      "source": [
        "# IMPORTANT: RUN THIS CELL IN ORDER TO IMPORT YOUR KAGGLE DATA SOURCES,\n",
        "# THEN FEEL FREE TO DELETE THIS CELL.\n",
        "# NOTE: THIS NOTEBOOK ENVIRONMENT DIFFERS FROM KAGGLE'S PYTHON\n",
        "# ENVIRONMENT SO THERE MAY BE MISSING LIBRARIES USED BY YOUR\n",
        "# NOTEBOOK.\n",
        "import kagglehub\n",
        "rrebirrth_animals_with_attributes_2_path = kagglehub.dataset_download('rrebirrth/animals-with-attributes-2')\n",
        "\n",
        "print('Data source import complete.')\n"
      ],
      "metadata": {
        "id": "JAC7Sle1d_Ql"
      },
      "cell_type": "code",
      "outputs": [],
      "execution_count": null
    },
    {
      "cell_type": "code",
      "source": [
        "# This Python 3 environment comes with many helpful analytics libraries installed\n",
        "# It is defined by the kaggle/python Docker image: https://github.com/kaggle/docker-python\n",
        "# For example, here's several helpful packages to load\n",
        "\n",
        "import numpy as np # linear algebra\n",
        "import pandas as pd # data processing, CSV file I/O (e.g. pd.read_csv)\n",
        "\n",
        "# Input data files are available in the read-only \"../input/\" directory\n",
        "# For example, running this (by clicking run or pressing Shift+Enter) will list all files under the input directory\n",
        "\n",
        "import os\n",
        "for dirname, _, filenames in os.walk('/kaggle/input'):\n",
        "    for filename in filenames:\n",
        "        print(os.path.join(dirname, filename))\n",
        "\n",
        "# You can write up to 20GB to the current directory (/kaggle/working/) that gets preserved as output when you create a version using \"Save & Run All\"\n",
        "# You can also write temporary files to /kaggle/temp/, but they won't be saved outside of the current session"
      ],
      "metadata": {
        "_uuid": "8f2839f25d086af736a60e9eeb907d3b93b6e0e5",
        "_cell_guid": "b1076dfc-b9ad-4769-8c92-a6c4dae69d19",
        "trusted": true,
        "execution": {
          "iopub.status.busy": "2024-12-23T16:18:54.070997Z",
          "iopub.execute_input": "2024-12-23T16:18:54.071285Z",
          "iopub.status.idle": "2024-12-23T16:22:58.599986Z",
          "shell.execute_reply.started": "2024-12-23T16:18:54.071223Z",
          "shell.execute_reply": "2024-12-23T16:22:58.589731Z"
        },
        "id": "JFm0_l76d_Qs"
      },
      "outputs": [],
      "execution_count": null
    },
    {
      "cell_type": "markdown",
      "source": [
        "# Hayvan Türlerini Sınıflandırma Projesi\n",
        "\n",
        "Bu proje, çeşitli hayvan türlerini sınıflandırmak için bir Convolutional Neural Network (CNN) modeli oluşturmayı amaçlamaktadır. Proje, Aygaz Görüntü İşleme Bootcamp kapsamında gerçekleştirilmiştir.\n",
        "\n",
        "## Proje Adımları\n",
        "\n",
        "### 1. Gerekli Kütüphanelerin İçe Aktarılması\n",
        "```python\n",
        "import os  # Dosya ve klasör yönetimi işlemleri için.\n",
        "import numpy as np  # Sayısal hesaplamalar ve veri manipülasyonu için.\n",
        "import shutil  # Dosya ve klasör yönetimi işlemleri için.\n",
        "import random  # Rastgele işlemler için.\n",
        "from glob import glob  # Dosya yollarını bulmak için.\n",
        "import cv2  # Görüntü işleme ve boyutlandırma için.\n",
        "import matplotlib.pyplot as plt  # Sonuçları görselleştirmek için.\n",
        "from sklearn.model_selection import train_test_split  # Eğitim ve test veri setlerini ayırmak için.\n",
        "from sklearn.preprocessing import LabelEncoder  # Etiketleri sayısal değerlere dönüştürmek için.\n",
        "from tensorflow.keras.preprocessing.image import ImageDataGenerator  # Görüntü veri artırma (augmentation) için.\n",
        "from tensorflow.keras.models import Sequential  # Model oluşturmak için.\n",
        "from tensorflow.keras.layers import Conv2D, MaxPooling2D, Flatten, Dense, Dropout, BatchNormalization  # Model katmanlarını oluşturmak için.\n",
        "from tensorflow.keras.utils import to_categorical  # Etiketleri kategorik verilere dönüştürmek için.\n",
        "from tensorflow import keras  # Derin öğrenme modelleme ve işlevsellik için.\n",
        "from tensorflow.keras import models, layers  # Keras ile model ve katmanlar oluşturmak için.\n",
        "import seaborn as sns  # İstatistiksel veri görselleştirmeleri için.\n",
        "import plotly.express as px  # Etkileşimli ve dinamik grafikler oluşturmak için.\n",
        "import missingno as msno  # Eksik veri analizi ve giderilmesi için.\n",
        "import warnings  # Uyarıları kontrol etmek için.\n",
        "warnings.filterwarnings(\"ignore\")  # Tüm uyarıları gizlemek için.\n",
        "from matplotlib import style  # Grafik stillerini değiştirmek için.\n",
        "style.use(\"ggplot\")  # ggplot stilini uygular.\n",
        "from PIL import Image  # Görüntü işleme için.\n",
        "from skimage import io, color, filters  # Scikit-Image modülleri.\n",
        "import SimpleITK as sitk  # Tıbbi görüntü işleme için.\n"
      ],
      "metadata": {
        "id": "IrUvveumd_Qt"
      }
    },
    {
      "cell_type": "code",
      "source": [
        "import os  # Dosya ve klasör yönetimi işlemleri için.\n",
        "import numpy as np  # Sayısal hesaplamalar ve veri manipülasyonu için.\n",
        "import shutil  # Dosya ve klasör yönetimi işlemleri için.\n",
        "import random  # Rastgele işlemler için.\n",
        "from glob import glob  # Dosya yollarını bulmak için.\n",
        "import cv2  # Görüntü işleme ve boyutlandırma için.\n",
        "import matplotlib.pyplot as plt  # Sonuçları görselleştirmek için.\n",
        "from sklearn.model_selection import train_test_split  # Eğitim ve test veri setlerini ayırmak için.\n",
        "from sklearn.preprocessing import LabelEncoder  # Etiketleri sayısal değerlere dönüştürmek için.\n",
        "from tensorflow.keras.preprocessing.image import ImageDataGenerator  # Görüntü veri artırma (augmentation) için.\n",
        "from tensorflow.keras.models import Sequential  # Model oluşturmak için.\n",
        "from tensorflow.keras.layers import Conv2D, MaxPooling2D, Flatten, Dense, Dropout, BatchNormalization  # Model katmanlarını oluşturmak için.\n",
        "from tensorflow.keras.utils import to_categorical  # Etiketleri kategorik verilere dönüştürmek için.\n",
        "from tensorflow import keras  # Derin öğrenme modelleme ve işlevsellik için.\n",
        "from tensorflow.keras import models, layers  # Keras ile model ve katmanlar oluşturmak için.\n",
        "import seaborn as sns  # İstatistiksel veri görselleştirmeleri için.\n",
        "import plotly.express as px  # Etkileşimli ve dinamik grafikler oluşturmak için.\n",
        "import missingno as msno  # Eksik veri analizi ve giderilmesi için.\n",
        "import warnings  # Uyarıları kontrol etmek için.\n",
        "warnings.filterwarnings(\"ignore\")  # Tüm uyarıları gizlemek için.\n",
        "from matplotlib import style  # Grafik stillerini değiştirmek için.\n",
        "style.use(\"ggplot\")  # ggplot stilini uygular.\n",
        "from PIL import Image  # Görüntü işleme için.\n",
        "from skimage import io, color, filters  # Scikit-Image modülleri.\n",
        "import SimpleITK as sitk  # Tıbbi görüntü işleme için.\n"
      ],
      "metadata": {
        "trusted": true,
        "execution": {
          "iopub.status.busy": "2024-12-23T16:28:43.340499Z",
          "iopub.execute_input": "2024-12-23T16:28:43.340891Z",
          "iopub.status.idle": "2024-12-23T16:28:54.90653Z",
          "shell.execute_reply.started": "2024-12-23T16:28:43.340864Z",
          "shell.execute_reply": "2024-12-23T16:28:54.905672Z"
        },
        "id": "1XuFW1f3d_Qv"
      },
      "outputs": [],
      "execution_count": null
    },
    {
      "cell_type": "code",
      "source": [
        "# Örnek olarak bir resim dosyasını okuyalım ve gösterelim\n",
        "image_folder = '/kaggle/input/animals-with-attributes-2/Animals_with_Attributes2/JPEGImages'\n",
        "image_path = os.path.join(image_folder, 'antelope', 'antelope_10001.jpg')  # Belirli bir resim dosyasını seçelim\n",
        "image = cv2.imread(image_path)\n",
        "plt.imshow(cv2.cvtColor(image, cv2.COLOR_BGR2RGB))\n",
        "plt.axis('off')  # Eksenleri kapatalım\n",
        "plt.show()\n"
      ],
      "metadata": {
        "trusted": true,
        "execution": {
          "iopub.status.busy": "2024-12-23T16:28:59.179113Z",
          "iopub.execute_input": "2024-12-23T16:28:59.179823Z",
          "iopub.status.idle": "2024-12-23T16:28:59.478275Z",
          "shell.execute_reply.started": "2024-12-23T16:28:59.179779Z",
          "shell.execute_reply": "2024-12-23T16:28:59.477196Z"
        },
        "id": "FYsEDhW3d_Qw"
      },
      "outputs": [],
      "execution_count": null
    },
    {
      "cell_type": "markdown",
      "source": [
        "# **> 2. Veri Setini Kullanma**\n",
        "\n",
        "Veri seti, Kaggle üzerinde bulunan \"Animals with Attributes 2\" veri setidir.\n",
        "\n",
        "JPEGImages klasöründe 50 farklı hayvan sınıfı bulunmaktadır.\n",
        "\n",
        "Projede yalnızca 10 sınıf kullanılacaktır: collie, dolphin, elephant, fox, moose, rabbit, sheep, squirrel, giant panda ve polar bear."
      ],
      "metadata": {
        "id": "hIgOIuIUd_Qx"
      }
    },
    {
      "cell_type": "code",
      "source": [
        "# Veri seti klasörünün yolunu belirtelim\n",
        "dataset_path = '/kaggle/input/animals-with-attributes-2/Animals_with_Attributes2/JPEGImages'\n",
        "\n",
        "# Sınıfları belirlemek için klasör adlarını listeleyelim\n",
        "classes = os.listdir(dataset_path)\n",
        "print(\"Sınıflar:\", classes)\n",
        "\n",
        "# Her sınıftan bir örnek görüntü gösterelim\n",
        "fig, axes = plt.subplots(len(classes) // 5 + 1, 5, figsize=(15, len(classes) * 1.5))\n",
        "axes = axes.flatten()\n",
        "\n",
        "for i, class_name in enumerate(classes):\n",
        "    image_folder = os.path.join(dataset_path, class_name)\n",
        "    image_files = os.listdir(image_folder)\n",
        "    if image_files:\n",
        "        image_path = os.path.join(image_folder, image_files[0])  # İlk görüntüyü alalım\n",
        "        image = cv2.imread(image_path)\n",
        "        axes[i].imshow(cv2.cvtColor(image, cv2.COLOR_BGR2RGB))\n",
        "        axes[i].set_title(class_name)\n",
        "        axes[i].axis('off')\n",
        "\n",
        "plt.tight_layout()\n",
        "plt.show()\n"
      ],
      "metadata": {
        "trusted": true,
        "execution": {
          "iopub.status.busy": "2024-12-23T16:29:03.710635Z",
          "iopub.execute_input": "2024-12-23T16:29:03.710972Z",
          "iopub.status.idle": "2024-12-23T16:29:14.465002Z",
          "shell.execute_reply.started": "2024-12-23T16:29:03.710947Z",
          "shell.execute_reply": "2024-12-23T16:29:14.463269Z"
        },
        "id": "UeZQpBYxd_Qx"
      },
      "outputs": [],
      "execution_count": null
    },
    {
      "cell_type": "code",
      "source": [
        "# Veri seti klasörünün yolunu belirtelim\n",
        "dataset_path = '/kaggle/input/animals-with-attributes-2/Animals_with_Attributes2/JPEGImages'\n",
        "selected_classes = ['collie', 'dolphin', 'elephant', 'fox', 'moose', 'rabbit', 'sheep', 'squirrel', 'giant panda', 'polar bear']\n",
        "output_path = '/kaggle/working/selected_images'\n",
        "\n",
        "# Seçilen sınıfları ve her sınıftan 650 resmi yeni bir klasöre kopyalayalım\n",
        "if not os.path.exists(output_path):\n",
        "    os.makedirs(output_path)\n",
        "\n",
        "for class_name in selected_classes:\n",
        "    class_folder = os.path.join(dataset_path, class_name.replace(' ', '+'))\n",
        "    output_class_folder = os.path.join(output_path, class_name.replace(' ', '+'))\n",
        "    if not os.path.exists(output_class_folder):\n",
        "        os.makedirs(output_class_folder)\n",
        "\n",
        "    images = os.listdir(class_folder)[:650]  # İlk 650 resmi seçelim\n",
        "    for image_name in images:\n",
        "        image_path = os.path.join(class_folder, image_name)\n",
        "        shutil.copy(image_path, output_class_folder)\n",
        "\n",
        "# Resimleri aynı boyuta getirme ve normalize etme\n",
        "image_size = (128, 128)  # İstediğiniz boyutu belirleyin\n",
        "normalized_images = []\n",
        "\n",
        "for class_name in selected_classes:\n",
        "    class_folder = os.path.join(output_path, class_name.replace(' ', '+'))\n",
        "    for image_name in os.listdir(class_folder):\n",
        "        image_path = os.path.join(class_folder, image_name)\n",
        "        image = cv2.imread(image_path)\n",
        "        img_resized = cv2.resize(image, image_size)\n",
        "        img_normalized = img_resized / 255.0\n",
        "        normalized_images.append((img_normalized, class_name))\n",
        "\n",
        "# Normalized_images listesi, normalize edilmiş resimleri ve sınıf adlarını içerir\n"
      ],
      "metadata": {
        "trusted": true,
        "execution": {
          "iopub.status.busy": "2024-12-23T16:29:33.048105Z",
          "iopub.execute_input": "2024-12-23T16:29:33.048539Z",
          "iopub.status.idle": "2024-12-23T16:32:23.525602Z",
          "shell.execute_reply.started": "2024-12-23T16:29:33.048505Z",
          "shell.execute_reply": "2024-12-23T16:32:23.523802Z"
        },
        "id": "KN_0tc0ld_Qy"
      },
      "outputs": [],
      "execution_count": null
    },
    {
      "cell_type": "code",
      "source": [
        "import matplotlib.pyplot as plt\n",
        "\n",
        "# Her sınıftan bir örnek görüntü gösterelim\n",
        "fig, axes = plt.subplots(2, 5, figsize=(15, 6))\n",
        "axes = axes.flatten()\n",
        "\n",
        "for i, (img, class_name) in enumerate(normalized_images[:10]):  # İlk 10 sınıfı alalım\n",
        "    axes[i].imshow(img)\n",
        "    axes[i].set_title(class_name)\n",
        "    axes[i].axis('off')\n",
        "\n",
        "plt.tight_layout()\n",
        "plt.show()\n"
      ],
      "metadata": {
        "trusted": true,
        "execution": {
          "iopub.status.busy": "2024-12-23T16:33:29.480355Z",
          "iopub.execute_input": "2024-12-23T16:33:29.480835Z",
          "iopub.status.idle": "2024-12-23T16:33:30.787302Z",
          "shell.execute_reply.started": "2024-12-23T16:33:29.480791Z",
          "shell.execute_reply": "2024-12-23T16:33:30.785699Z"
        },
        "id": "tLxiIMKbd_Q0"
      },
      "outputs": [],
      "execution_count": null
    },
    {
      "cell_type": "markdown",
      "source": [
        "> # 3. Veri Setini Hazırlama\n",
        "Her sınıftan yalnızca ilk 650 resim kullanılmıştır.\n",
        "\n",
        "Tüm resimler 128x128 boyutuna getirilmiş ve normalize edilmiştir.\n",
        "\n",
        "Veriler eğitim (%70) ve test (%30) olarak ikiye ayrılmıştır."
      ],
      "metadata": {
        "id": "h07yht_Bd_Q0"
      }
    },
    {
      "cell_type": "code",
      "source": [
        "# Veri seti klasörünün yolunu belirtelim\n",
        "dataset_path = '/kaggle/input/animals-with-attributes-2/Animals_with_Attributes2/JPEGImages'\n",
        "selected_classes = ['collie', 'dolphin', 'elephant', 'fox', 'moose', 'rabbit', 'sheep', 'squirrel', 'giant panda', 'polar bear']\n",
        "output_path = '/kaggle/working/selected_images'\n",
        "\n",
        "# Seçilen sınıfları ve her sınıftan 650 resmi yeni bir klasöre kopyalayalım\n",
        "if not os.path.exists(output_path):\n",
        "    os.makedirs(output_path)\n",
        "\n",
        "for class_name in selected_classes:\n",
        "    class_folder = os.path.join(dataset_path, class_name.replace(' ', '+'))\n",
        "    output_class_folder = os.path.join(output_path, class_name.replace(' ', '+'))\n",
        "    if not os.path.exists(output_class_folder):\n",
        "        os.makedirs(output_class_folder)\n",
        "\n",
        "    images = os.listdir(class_folder)[:650]  # İlk 650 resmi seçelim\n",
        "    for image_name in images:\n",
        "        image_path = os.path.join(class_folder, image_name)\n",
        "        shutil.copy(image_path, output_class_folder)\n",
        "\n",
        "# Resimleri aynı boyuta getirme ve normalize etme\n",
        "image_size = (128, 128)  # İstediğiniz boyutu belirleyin\n",
        "X = []\n",
        "y = []\n",
        "\n",
        "for class_name in selected_classes:\n",
        "    class_folder = os.path.join(output_path, class_name.replace(' ', '+'))\n",
        "    for image_name in os.listdir(class_folder):\n",
        "        image_path = os.path.join(class_folder, image_name)\n",
        "        image = cv2.imread(image_path)\n",
        "        img_resized = cv2.resize(image, image_size)\n",
        "        img_normalized = img_resized / 255.0\n",
        "        X.append(img_normalized)\n",
        "        y.append(class_name)\n",
        "\n",
        "X = np.array(X)\n",
        "y = np.array(y)\n",
        "\n",
        "# Etiketleri sayısal değerlere dönüştürelim\n",
        "label_encoder = LabelEncoder()\n",
        "y = label_encoder.fit_transform(y)\n",
        "\n",
        "# Etiketleri one-hot encoding yapalım\n",
        "y = to_categorical(y)\n",
        "\n",
        "# Veriyi eğitim ve test setlerine ayıralım\n",
        "X_train, X_test, y_train, y_test = train_test_split(X, y, test_size=0.3, random_state=42)\n",
        "\n",
        "print(\"Eğitim seti boyutu:\", X_train.shape)\n",
        "print(\"Test seti boyutu:\", X_test.shape)\n"
      ],
      "metadata": {
        "trusted": true,
        "execution": {
          "iopub.status.busy": "2024-12-23T16:33:39.593467Z",
          "iopub.execute_input": "2024-12-23T16:33:39.593839Z",
          "iopub.status.idle": "2024-12-23T16:35:16.35167Z",
          "shell.execute_reply.started": "2024-12-23T16:33:39.593812Z",
          "shell.execute_reply": "2024-12-23T16:35:16.350585Z"
        },
        "id": "3BrYRUgQd_Q0"
      },
      "outputs": [],
      "execution_count": null
    },
    {
      "cell_type": "markdown",
      "source": [
        "> # 3. CNN Modelinin Tasarlanması\n",
        "10 hayvan sınıfını ayırt edecek bir CNN modeli tasarlanmıştır.\n",
        "\n",
        "Modelde kullanılan katmanlar: Convolution, Activation, Pooling, Fully Connected, Dropout.\n",
        "\n",
        "Kullanılan kayıp fonksiyonu: categorical_crossentropy."
      ],
      "metadata": {
        "id": "AHc0DDapd_Q1"
      }
    },
    {
      "cell_type": "code",
      "source": [
        "from tensorflow.keras.models import Sequential\n",
        "from tensorflow.keras.layers import Conv2D, MaxPooling2D, Flatten, Dense, Dropout, BatchNormalization\n",
        "from tensorflow.keras.preprocessing.image import ImageDataGenerator\n",
        "\n",
        "# Modeli tanımlayalım\n",
        "model = Sequential([\n",
        "    Conv2D(32, (3, 3), activation='relu', input_shape=(128, 128, 3)),\n",
        "    MaxPooling2D((2, 2)),\n",
        "    BatchNormalization(),\n",
        "    Conv2D(64, (3, 3), activation='relu'),\n",
        "    MaxPooling2D((2, 2)),\n",
        "    BatchNormalization(),\n",
        "    Conv2D(128, (3, 3), activation='relu'),\n",
        "    MaxPooling2D((2, 2)),\n",
        "    BatchNormalization(),\n",
        "    Flatten(),\n",
        "    Dense(512, activation='relu'),\n",
        "    Dropout(0.5),\n",
        "    Dense(10, activation='softmax')  # 10 sınıf için\n",
        "])\n",
        "\n",
        "model.compile(optimizer='adam', loss='categorical_crossentropy', metrics=['accuracy'])\n",
        "\n",
        "# Veri artırma tekniklerini tanımlayalım\n",
        "datagen = ImageDataGenerator(\n",
        "    rotation_range=40,\n",
        "    width_shift_range=0.2,\n",
        "    height_shift_range=0.2,\n",
        "    shear_range=0.2,\n",
        "    zoom_range=0.2,\n",
        "    horizontal_flip=True,\n",
        "    fill_mode='nearest'\n",
        ")\n",
        "\n",
        "# Eğitim setine veri artırma uygulayalım\n",
        "train_datagen = datagen.flow(X_train, y_train, batch_size=32)\n",
        "\n",
        "# Modeli eğitirken veri artırma kullanımı\n",
        "model.fit(train_datagen, epochs=50, validation_data=(X_test, y_test))\n"
      ],
      "metadata": {
        "trusted": true,
        "execution": {
          "iopub.status.busy": "2024-12-23T16:39:18.766211Z",
          "iopub.execute_input": "2024-12-23T16:39:18.766681Z",
          "iopub.status.idle": "2024-12-23T18:25:10.574538Z",
          "shell.execute_reply.started": "2024-12-23T16:39:18.766648Z",
          "shell.execute_reply": "2024-12-23T18:25:10.570966Z"
        },
        "id": "LH1m9ycMd_Q1"
      },
      "outputs": [],
      "execution_count": null
    },
    {
      "cell_type": "code",
      "source": [
        "import matplotlib.pyplot as plt\n",
        "\n",
        "# Eğitim setinden örnek görüntüler gösterelim\n",
        "fig, axes = plt.subplots(2, 5, figsize=(15, 6))\n",
        "axes = axes.flatten()\n",
        "\n",
        "for i in range(10):  # İlk 10 görüntüyü alalım\n",
        "    axes[i].imshow(X_train[i])\n",
        "    axes[i].set_title(label_encoder.inverse_transform([np.argmax(y_train[i])])[0])\n",
        "    axes[i].axis('off')\n",
        "\n",
        "plt.tight_layout()\n",
        "plt.show()\n",
        "\n",
        "# Test setinden örnek görüntüler gösterelim\n",
        "fig, axes = plt.subplots(2, 5, figsize=(15, 6))\n",
        "axes = axes.flatten()\n",
        "\n",
        "for i in range(10):  # İlk 10 görüntüyü alalım\n",
        "    axes[i].imshow(X_test[i])\n",
        "    axes[i].set_title(label_encoder.inverse_transform([np.argmax(y_test[i])])[0])\n",
        "    axes[i].axis('off')\n",
        "\n",
        "plt.tight_layout()\n",
        "plt.show()\n"
      ],
      "metadata": {
        "trusted": true,
        "execution": {
          "iopub.status.busy": "2024-12-23T18:28:16.82819Z",
          "iopub.execute_input": "2024-12-23T18:28:16.828953Z",
          "iopub.status.idle": "2024-12-23T18:28:19.738877Z",
          "shell.execute_reply.started": "2024-12-23T18:28:16.828882Z",
          "shell.execute_reply": "2024-12-23T18:28:19.737765Z"
        },
        "id": "lRgR4BpMd_Q2"
      },
      "outputs": [],
      "execution_count": null
    },
    {
      "cell_type": "markdown",
      "source": [
        "> # 4. Modelin Test Edilmesi\n",
        "Model, test verisiyle test edilmiştir.\n",
        "\n",
        "Modelin başarısı (accuracy) değerlendirilmiştir."
      ],
      "metadata": {
        "id": "cqLYO5_pd_Q2"
      }
    },
    {
      "cell_type": "code",
      "source": [
        "# Modeli test edelim\n",
        "test_loss, test_accuracy = model.evaluate(X_test, y_test)\n",
        "print(f\"Test Doğruluk Oranı: {test_accuracy * 100:.2f}%\")\n",
        "print(f\"Test Kayıp Değeri: {test_loss:.4f}\")\n"
      ],
      "metadata": {
        "trusted": true,
        "execution": {
          "iopub.status.busy": "2024-12-23T18:28:33.488199Z",
          "iopub.execute_input": "2024-12-23T18:28:33.488616Z",
          "iopub.status.idle": "2024-12-23T18:28:44.568053Z",
          "shell.execute_reply.started": "2024-12-23T18:28:33.488585Z",
          "shell.execute_reply": "2024-12-23T18:28:44.566975Z"
        },
        "id": "i83A367Ld_Q2"
      },
      "outputs": [],
      "execution_count": null
    },
    {
      "cell_type": "markdown",
      "source": [
        "> #     5. Tekrar eğitilir ve test edilir"
      ],
      "metadata": {
        "id": "xxu16nCVd_Q2"
      }
    },
    {
      "cell_type": "code",
      "source": [
        "from tensorflow.keras.models import Sequential\n",
        "from tensorflow.keras.layers import Conv2D, MaxPooling2D, Flatten, Dense, Dropout, BatchNormalization\n",
        "\n",
        "# Modeli tanımlayalım\n",
        "model = Sequential([\n",
        "    Conv2D(32, (3, 3), activation='relu', input_shape=(128, 128, 3)),\n",
        "    MaxPooling2D((2, 2)),\n",
        "    BatchNormalization(),\n",
        "    Conv2D(64, (3, 3), activation='relu'),\n",
        "    MaxPooling2D((2, 2)),\n",
        "    BatchNormalization(),\n",
        "    Conv2D(128, (3, 3), activation='relu'),\n",
        "    MaxPooling2D((2, 2)),\n",
        "    BatchNormalization(),\n",
        "    Conv2D(256, (3, 3), activation='relu'),  # Yeni konvolüsyon katmanı\n",
        "    MaxPooling2D((2, 2)),\n",
        "    BatchNormalization(),\n",
        "    Flatten(),\n",
        "    Dense(512, activation='relu'),\n",
        "    Dropout(0.5),\n",
        "    Dense(10, activation='softmax')  # 10 sınıf için\n",
        "])\n",
        "\n",
        "# Modeli derleyelim\n",
        "model.compile(optimizer='adam', loss='categorical_crossentropy', metrics=['accuracy'])\n",
        "\n",
        "# Modeli eğitelim\n",
        "model.fit(train_datagen, epochs=50, validation_data=(X_test, y_test))\n"
      ],
      "metadata": {
        "trusted": true,
        "execution": {
          "iopub.status.busy": "2024-12-23T18:28:52.76802Z",
          "iopub.execute_input": "2024-12-23T18:28:52.768448Z",
          "iopub.status.idle": "2024-12-23T20:11:36.29131Z",
          "shell.execute_reply.started": "2024-12-23T18:28:52.768415Z",
          "shell.execute_reply": "2024-12-23T20:11:36.287994Z"
        },
        "id": "qQLzQSVWd_Q5"
      },
      "outputs": [],
      "execution_count": null
    },
    {
      "cell_type": "code",
      "source": [
        "# Modeli test edelim\n",
        "test_loss, test_accuracy = model.evaluate(X_test, y_test)\n",
        "print(f\"Test Doğruluk Oranı: {test_accuracy * 100:.2f}%\")\n",
        "print(f\"Test Kayıp Değeri: {test_loss:.4f}\")\n"
      ],
      "metadata": {
        "trusted": true,
        "execution": {
          "iopub.status.busy": "2024-12-23T20:15:33.914969Z",
          "iopub.execute_input": "2024-12-23T20:15:33.91552Z",
          "iopub.status.idle": "2024-12-23T20:15:46.587608Z",
          "shell.execute_reply.started": "2024-12-23T20:15:33.915485Z",
          "shell.execute_reply": "2024-12-23T20:15:46.586389Z"
        },
        "id": "M99q8u20d_Q6"
      },
      "outputs": [],
      "execution_count": null
    },
    {
      "cell_type": "markdown",
      "source": [
        "> # 6. Resimlerin Kontrast Arttırma Ve Döndürme ile Manipüle Edilmesi"
      ],
      "metadata": {
        "id": "J2XFdHeFd_Q6"
      }
    },
    {
      "cell_type": "code",
      "source": [
        "def manipulate_images_v2(images):\n",
        "    manipulated_images = []\n",
        "    for img in images:\n",
        "        manipulated = cv2.convertScaleAbs(img, alpha=2.0, beta=0)  # Kontrast artırma\n",
        "        manipulated = cv2.rotate(manipulated, cv2.ROTATE_90_CLOCKWISE)  # Döndürme\n",
        "        manipulated_images.append(manipulated)\n",
        "    return np.array(manipulated_images)\n",
        "\n",
        "# Test setini manipüle edelim\n",
        "X_test_manipulated_v2 = manipulate_images_v2(X_test)\n",
        "\n",
        "# Modeli manipüle edilmiş test seti ile değerlendirelim\n",
        "manipulated_loss_v2, manipulated_accuracy_v2 = model.evaluate(X_test_manipulated_v2, y_test)\n",
        "print(f\"Manipüle Edilmiş Test Doğruluğu (Kontrast + Döndürme): {manipulated_accuracy_v2 * 100:.2f}%\")\n",
        "print(f\"Manipüle Edilmiş Test Kayıp Değeri (Kontrast + Döndürme): {manipulated_loss_v2:.4f}\")\n"
      ],
      "metadata": {
        "trusted": true,
        "execution": {
          "iopub.status.busy": "2024-12-23T20:15:53.97994Z",
          "iopub.execute_input": "2024-12-23T20:15:53.980345Z",
          "iopub.status.idle": "2024-12-23T20:16:06.199283Z",
          "shell.execute_reply.started": "2024-12-23T20:15:53.980311Z",
          "shell.execute_reply": "2024-12-23T20:16:06.198408Z"
        },
        "id": "szHyq_wEd_Q7"
      },
      "outputs": [],
      "execution_count": null
    },
    {
      "cell_type": "markdown",
      "source": [
        "> # 7. Manipüle Edilmiş Test Setine Renk Sabitliği Algoritması Uygulanması ve Denemesi"
      ],
      "metadata": {
        "id": "DNBLxVGNd_Q7"
      }
    },
    {
      "cell_type": "code",
      "source": [
        "def apply_color_correction(image):\n",
        "    avg_b, avg_g, avg_r = cv2.mean(image)[:3]\n",
        "    scale_b = 1.0 / (avg_b + 1e-5)\n",
        "    scale_g = 1.0 / (avg_g + 1e-5)\n",
        "    scale_r = 1.0 / (avg_r + 1e-5)\n",
        "    corrected_image = image * np.array([scale_b, scale_g, scale_r])\n",
        "    corrected_image = np.clip(corrected_image, 0, 255).astype(np.uint8)\n",
        "    return corrected_image\n",
        "\n",
        "# Manipüle edilmiş test setine renk sabitliği uygulayalım\n",
        "X_test_corrected_v2 = np.array([apply_color_correction(img) for img in X_test_manipulated_v2])\n",
        "\n",
        "# Modeli renk sabitliği uygulanmış test seti ile değerlendirelim\n",
        "corrected_loss_v2, corrected_accuracy_v2 = model.evaluate(X_test_corrected_v2, y_test)\n",
        "print(f\"Renk Sabitliği Uygulanmış Test Doğruluğu (Manipüle Edilmiş): {corrected_accuracy_v2 * 100:.2f}%\")\n",
        "print(f\"Renk Sabitliği Uygulanmış Test Kayıp Değeri (Manipüle Edilmiş): {corrected_loss_v2:.4f}\")\n"
      ],
      "metadata": {
        "trusted": true,
        "execution": {
          "iopub.status.busy": "2024-12-23T20:17:24.605438Z",
          "iopub.execute_input": "2024-12-23T20:17:24.605812Z",
          "iopub.status.idle": "2024-12-23T20:17:46.058306Z",
          "shell.execute_reply.started": "2024-12-23T20:17:24.605785Z",
          "shell.execute_reply": "2024-12-23T20:17:46.057129Z"
        },
        "id": "amimg_1yd_Q7"
      },
      "outputs": [],
      "execution_count": null
    },
    {
      "cell_type": "markdown",
      "source": [
        "> # 8. Farklı Test Setlerinin Başarılarını Karşılaştırma ve Raporlama"
      ],
      "metadata": {
        "id": "QdIl-Axld_Q7"
      }
    },
    {
      "cell_type": "code",
      "source": [
        "# Orijinal test seti ile modeli değerlendirelim\n",
        "loss, test_accuracy = model.evaluate(X_test, y_test)\n",
        "print(f\"Orijinal Test Seti Doğruluğu: {test_accuracy * 100:.2f}%\")\n",
        "\n",
        "# Manipüle edilmiş test seti ile modeli değerlendirelim\n",
        "manipulated_loss_v2, manipulated_accuracy_v2 = model.evaluate(X_test_manipulated_v2, y_test)\n",
        "print(f\"Manipüle Edilmiş Test Doğruluğu (Kontrast + Döndürme): {manipulated_accuracy_v2 * 100:.2f}%\")\n",
        "\n",
        "# Renk sabitliği uygulanmış test seti ile modeli değerlendirelim\n",
        "corrected_loss_v2, corrected_accuracy_v2 = model.evaluate(X_test_corrected_v2, y_test)\n",
        "print(f\"Renk Sabitliği Uygulanmış Test Doğruluğu (Manipüle Edilmiş): {corrected_accuracy_v2 * 100:.2f}%\")\n",
        "\n",
        "# Sonuçları yazdıralım\n",
        "print(\"\\nSonuçlar:\")\n",
        "print(f\"Orijinal Test Seti Doğruluğu: {test_accuracy * 100:.2f}%\")\n",
        "print(f\"Manipüle Edilmiş Test Seti Doğruluğu (Kontrast + Döndürme): {manipulated_accuracy_v2 * 100:.2f}%\")\n",
        "print(f\"Renk Sabitliği Uygulanmış Test Seti (Manipüle Edilmiş): {corrected_accuracy_v2 * 100:.2f}%\")\n"
      ],
      "metadata": {
        "trusted": true,
        "execution": {
          "iopub.status.busy": "2024-12-23T20:17:46.059916Z",
          "iopub.execute_input": "2024-12-23T20:17:46.060206Z",
          "iopub.status.idle": "2024-12-23T20:18:20.846518Z",
          "shell.execute_reply.started": "2024-12-23T20:17:46.060182Z",
          "shell.execute_reply": "2024-12-23T20:18:20.84539Z"
        },
        "id": "2WP19SN5d_Q7"
      },
      "outputs": [],
      "execution_count": null
    }
  ]
}