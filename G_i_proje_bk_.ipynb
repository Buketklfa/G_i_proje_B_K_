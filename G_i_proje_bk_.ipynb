{
  "metadata": {
    "kernelspec": {
      "language": "python",
      "display_name": "Python 3",
      "name": "python3"
    },
    "language_info": {
      "name": "python",
      "version": "3.10.12",
      "mimetype": "text/x-python",
      "codemirror_mode": {
        "name": "ipython",
        "version": 3
      },
      "pygments_lexer": "ipython3",
      "nbconvert_exporter": "python",
      "file_extension": ".py"
    },
    "kaggle": {
      "accelerator": "none",
      "dataSources": [
        {
          "sourceId": 2333429,
          "sourceType": "datasetVersion",
          "datasetId": 1408532
        }
      ],
      "dockerImageVersionId": 30822,
      "isInternetEnabled": true,
      "language": "python",
      "sourceType": "notebook",
      "isGpuEnabled": false
    },
    "colab": {
      "name": "G_i_proje_bk_",
      "provenance": []
    }
  },
  "nbformat_minor": 0,
  "nbformat": 4,
  "cells": [
    {
      "source": [
        "# IMPORTANT: RUN THIS CELL IN ORDER TO IMPORT YOUR KAGGLE DATA SOURCES,\n",
        "# THEN FEEL FREE TO DELETE THIS CELL.\n",
        "# NOTE: THIS NOTEBOOK ENVIRONMENT DIFFERS FROM KAGGLE'S PYTHON\n",
        "# ENVIRONMENT SO THERE MAY BE MISSING LIBRARIES USED BY YOUR\n",
        "# NOTEBOOK.\n",
        "import kagglehub\n",
        "rrebirrth_animals_with_attributes_2_path = kagglehub.dataset_download('rrebirrth/animals-with-attributes-2')\n",
        "\n",
        "print('Data source import complete.')\n"
      ],
      "metadata": {
        "id": "s3teBwsxHzH7"
      },
      "cell_type": "code",
      "outputs": [],
      "execution_count": null
    },
    {
      "cell_type": "code",
      "source": [
        "# This Python 3 environment comes with many helpful analytics libraries installed\n",
        "# It is defined by the kaggle/python Docker image: https://github.com/kaggle/docker-python\n",
        "# For example, here's several helpful packages to load\n",
        "\n",
        "import numpy as np # linear algebra\n",
        "import pandas as pd # data processing, CSV file I/O (e.g. pd.read_csv)\n",
        "\n",
        "# Input data files are available in the read-only \"../input/\" directory\n",
        "# For example, running this (by clicking run or pressing Shift+Enter) will list all files under the input directory\n",
        "\n",
        "import os\n",
        "for dirname, _, filenames in os.walk('/kaggle/input'):\n",
        "    for filename in filenames:\n",
        "        print(os.path.join(dirname, filename))\n",
        "\n",
        "# You can write up to 20GB to the current directory (/kaggle/working/) that gets preserved as output when you create a version using \"Save & Run All\"\n",
        "# You can also write temporary files to /kaggle/temp/, but they won't be saved outside of the current session"
      ],
      "metadata": {
        "_uuid": "8f2839f25d086af736a60e9eeb907d3b93b6e0e5",
        "_cell_guid": "b1076dfc-b9ad-4769-8c92-a6c4dae69d19",
        "trusted": true,
        "execution": {
          "iopub.status.busy": "2024-12-22T18:21:23.45549Z",
          "iopub.execute_input": "2024-12-22T18:21:23.455894Z",
          "iopub.status.idle": "2024-12-22T18:22:08.524742Z",
          "shell.execute_reply.started": "2024-12-22T18:21:23.455859Z",
          "shell.execute_reply": "2024-12-22T18:22:08.52374Z"
        },
        "id": "G5N5IJCwHzIA"
      },
      "outputs": [],
      "execution_count": null
    },
    {
      "cell_type": "code",
      "source": [
        "import os  # Dosya ve klasör yönetimi işlemleri için.\n",
        "import numpy as np  # Sayısal hesaplamalar ve veri manipülasyonu için.\n",
        "import shutil  # Dosya ve klasör yönetimi işlemleri için.\n",
        "import random  # Rastgele işlemler için.\n",
        "from glob import glob  # Dosya yollarını bulmak için.\n",
        "import cv2  # Görüntü işleme ve boyutlandırma için.\n",
        "import matplotlib.pyplot as plt  # Sonuçları görselleştirmek için.\n",
        "from sklearn.model_selection import train_test_split  # Eğitim ve test veri setlerini ayırmak için.\n",
        "from sklearn.preprocessing import LabelEncoder  # Etiketleri sayısal değerlere dönüştürmek için.\n",
        "from tensorflow.keras.preprocessing.image import ImageDataGenerator  # Görüntü veri artırma (augmentation) için.\n",
        "from tensorflow.keras.models import Sequential  # Model oluşturmak için.\n",
        "from tensorflow.keras.layers import Conv2D, MaxPooling2D, Flatten, Dense, Dropout, BatchNormalization  # Model katmanlarını oluşturmak için.\n",
        "from tensorflow.keras.utils import to_categorical  # Etiketleri kategorik verilere dönüştürmek için.\n",
        "from tensorflow import keras  # Derin öğrenme modelleme ve işlevsellik için.\n",
        "from tensorflow.keras import models, layers  # Keras ile model ve katmanlar oluşturmak için.\n",
        "import seaborn as sns  # İstatistiksel veri görselleştirmeleri için.\n",
        "import plotly.express as px  # Etkileşimli ve dinamik grafikler oluşturmak için.\n",
        "import missingno as msno  # Eksik veri analizi ve giderilmesi için.\n",
        "import warnings  # Uyarıları kontrol etmek için.\n",
        "warnings.filterwarnings(\"ignore\")  # Tüm uyarıları gizlemek için.\n",
        "from matplotlib import style  # Grafik stillerini değiştirmek için.\n",
        "style.use(\"ggplot\")  # ggplot stilini uygular."
      ],
      "metadata": {
        "trusted": true,
        "execution": {
          "iopub.status.busy": "2024-12-22T17:53:47.660289Z",
          "iopub.execute_input": "2024-12-22T17:53:47.660689Z",
          "iopub.status.idle": "2024-12-22T17:53:59.070738Z",
          "shell.execute_reply.started": "2024-12-22T17:53:47.660638Z",
          "shell.execute_reply": "2024-12-22T17:53:59.069583Z"
        },
        "id": "-Qb6V7aDHzIB"
      },
      "outputs": [],
      "execution_count": null
    },
    {
      "cell_type": "code",
      "source": [
        "# Kaggle'daki veri seti yolunu kullanarak dosyaları okuyalım\n",
        "for dirname, _, filenames in os.walk('/kaggle/input'):\n",
        "    for filename in filenames:\n",
        "        print(os.path.join(dirname, filename))\n"
      ],
      "metadata": {
        "trusted": true,
        "execution": {
          "iopub.status.busy": "2024-12-22T17:55:54.621754Z",
          "iopub.execute_input": "2024-12-22T17:55:54.622125Z"
        },
        "id": "jZURh8oEHzIC"
      },
      "outputs": [],
      "execution_count": null
    },
    {
      "cell_type": "code",
      "source": [
        "import os  # Dosya ve klasör yönetimi işlemleri için.\n",
        "import numpy as np  # Sayısal hesaplamalar ve veri manipülasyonu için.\n",
        "import shutil  # Dosya ve klasör yönetimi işlemleri için.\n",
        "import random  # Rastgele işlemler için.\n",
        "from glob import glob  # Dosya yollarını bulmak için.\n",
        "import cv2  # Görüntü işleme ve boyutlandırma için.\n",
        "import matplotlib.pyplot as plt  # Sonuçları görselleştirmek için.\n",
        "from sklearn.model_selection import train_test_split  # Eğitim ve test veri setlerini ayırmak için.\n",
        "from sklearn.preprocessing import LabelEncoder  # Etiketleri sayısal değerlere dönüştürmek için.\n",
        "from tensorflow.keras.preprocessing.image import ImageDataGenerator  # Görüntü veri artırma (augmentation) için.\n",
        "from tensorflow.keras.models import Sequential  # Model oluşturmak için.\n",
        "from tensorflow.keras.layers import Conv2D, MaxPooling2D, Flatten, Dense, Dropout, BatchNormalization  # Model katmanlarını oluşturmak için.\n",
        "from tensorflow.keras.utils import to_categorical  # Etiketleri kategorik verilere dönüştürmek için.\n",
        "from tensorflow import keras  # Derin öğrenme modelleme ve işlevsellik için.\n",
        "from tensorflow.keras import models, layers  # Keras ile model ve katmanlar oluşturmak için.\n",
        "import seaborn as sns  # İstatistiksel veri görselleştirmeleri için.\n",
        "import plotly.express as px  # Etkileşimli ve dinamik grafikler oluşturmak için.\n",
        "import missingno as msno  # Eksik veri analizi ve giderilmesi için.\n",
        "import warnings  # Uyarıları kontrol etmek için.\n",
        "warnings.filterwarnings(\"ignore\")  # Tüm uyarıları gizlemek için.\n",
        "from matplotlib import style  # Grafik stillerini değiştirmek için.\n",
        "style.use(\"ggplot\")  # ggplot stilini uygular.\n",
        "from PIL import Image  # Görüntü işleme için.\n",
        "from skimage import io, color, filters  # Scikit-Image modülleri.\n",
        "import SimpleITK as sitk  # Tıbbi görüntü işleme için.\n"
      ],
      "metadata": {
        "trusted": true,
        "execution": {
          "iopub.status.busy": "2024-12-22T18:33:50.009861Z",
          "iopub.execute_input": "2024-12-22T18:33:50.01032Z",
          "iopub.status.idle": "2024-12-22T18:33:50.018165Z",
          "shell.execute_reply.started": "2024-12-22T18:33:50.010282Z",
          "shell.execute_reply": "2024-12-22T18:33:50.016912Z"
        },
        "id": "D8eSDXRQHzID"
      },
      "outputs": [],
      "execution_count": null
    },
    {
      "cell_type": "code",
      "source": [
        "import os\n",
        "import cv2\n",
        "import matplotlib.pyplot as plt\n",
        "\n",
        "# Örnek olarak bir resim dosyasını okuyalım ve gösterelim\n",
        "image_folder = '/kaggle/input/animals-with-attributes-2/Animals_with_Attributes2/JPEGImages'\n",
        "image_path = os.path.join(image_folder, 'antelope', 'antelope_10001.jpg')  # Belirli bir resim dosyasını seçelim\n",
        "image = cv2.imread(image_path)\n",
        "plt.imshow(cv2.cvtColor(image, cv2.COLOR_BGR2RGB))\n",
        "plt.axis('off')  # Eksenleri kapatalım\n",
        "plt.show()\n"
      ],
      "metadata": {
        "trusted": true,
        "execution": {
          "iopub.status.busy": "2024-12-22T18:33:55.629149Z",
          "iopub.execute_input": "2024-12-22T18:33:55.629522Z",
          "iopub.status.idle": "2024-12-22T18:33:55.91482Z",
          "shell.execute_reply.started": "2024-12-22T18:33:55.629488Z",
          "shell.execute_reply": "2024-12-22T18:33:55.913594Z"
        },
        "id": "lkiUF9sTHzID"
      },
      "outputs": [],
      "execution_count": null
    },
    {
      "cell_type": "code",
      "source": [
        "# Veri seti klasörünün yolunu belirtelim\n",
        "dataset_path = '/kaggle/input/animals-with-attributes-2/Animals_with_Attributes2/JPEGImages'\n",
        "\n",
        "# Sınıfları belirlemek için klasör adlarını listeleyelim\n",
        "classes = os.listdir(dataset_path)\n",
        "print(\"Sınıflar:\", classes)\n",
        "\n",
        "# Her sınıftan bir örnek görüntü gösterelim\n",
        "fig, axes = plt.subplots(len(classes) // 5 + 1, 5, figsize=(15, len(classes) * 1.5))\n",
        "axes = axes.flatten()\n",
        "\n",
        "for i, class_name in enumerate(classes):\n",
        "    image_folder = os.path.join(dataset_path, class_name)\n",
        "    image_files = os.listdir(image_folder)\n",
        "    if image_files:\n",
        "        image_path = os.path.join(image_folder, image_files[0])  # İlk görüntüyü alalım\n",
        "        image = cv2.imread(image_path)\n",
        "        axes[i].imshow(cv2.cvtColor(image, cv2.COLOR_BGR2RGB))\n",
        "        axes[i].set_title(class_name)\n",
        "        axes[i].axis('off')\n",
        "\n",
        "plt.tight_layout()\n",
        "plt.show()\n"
      ],
      "metadata": {
        "trusted": true,
        "execution": {
          "iopub.status.busy": "2024-12-22T18:41:03.771218Z",
          "iopub.execute_input": "2024-12-22T18:41:03.771568Z",
          "iopub.status.idle": "2024-12-22T18:41:13.948744Z",
          "shell.execute_reply.started": "2024-12-22T18:41:03.771539Z",
          "shell.execute_reply": "2024-12-22T18:41:13.947103Z"
        },
        "id": "z9ZwLMUvHzIE"
      },
      "outputs": [],
      "execution_count": null
    },
    {
      "cell_type": "code",
      "source": [
        "# Veri seti klasörünün yolunu belirtelim\n",
        "dataset_path = '/kaggle/input/animals-with-attributes-2/Animals_with_Attributes2/JPEGImages'\n",
        "selected_classes = ['collie', 'dolphin', 'elephant', 'fox', 'moose', 'rabbit', 'sheep', 'squirrel', 'giant panda', 'polar bear']\n",
        "output_path = '/kaggle/working/selected_images'\n",
        "\n",
        "# Seçilen sınıfları ve her sınıftan 650 resmi yeni bir klasöre kopyalayalım\n",
        "if not os.path.exists(output_path):\n",
        "    os.makedirs(output_path)\n",
        "\n",
        "for class_name in selected_classes:\n",
        "    class_folder = os.path.join(dataset_path, class_name.replace(' ', '+'))\n",
        "    output_class_folder = os.path.join(output_path, class_name.replace(' ', '+'))\n",
        "    if not os.path.exists(output_class_folder):\n",
        "        os.makedirs(output_class_folder)\n",
        "\n",
        "    images = os.listdir(class_folder)[:650]  # İlk 650 resmi seçelim\n",
        "    for image_name in images:\n",
        "        image_path = os.path.join(class_folder, image_name)\n",
        "        shutil.copy(image_path, output_class_folder)\n",
        "\n",
        "# Resimleri aynı boyuta getirme ve normalize etme\n",
        "image_size = (128, 128)  # İstediğiniz boyutu belirleyin\n",
        "normalized_images = []\n",
        "\n",
        "for class_name in selected_classes:\n",
        "    class_folder = os.path.join(output_path, class_name.replace(' ', '+'))\n",
        "    for image_name in os.listdir(class_folder):\n",
        "        image_path = os.path.join(class_folder, image_name)\n",
        "        image = cv2.imread(image_path)\n",
        "        img_resized = cv2.resize(image, image_size)\n",
        "        img_normalized = img_resized / 255.0\n",
        "        normalized_images.append((img_normalized, class_name))\n",
        "\n",
        "# Normalized_images listesi, normalize edilmiş resimleri ve sınıf adlarını içerir\n"
      ],
      "metadata": {
        "trusted": true,
        "execution": {
          "iopub.status.busy": "2024-12-22T18:51:37.058764Z",
          "iopub.execute_input": "2024-12-22T18:51:37.059132Z",
          "iopub.status.idle": "2024-12-22T18:52:49.157162Z",
          "shell.execute_reply.started": "2024-12-22T18:51:37.059096Z",
          "shell.execute_reply": "2024-12-22T18:52:49.15588Z"
        },
        "id": "yIpi50QwHzIE"
      },
      "outputs": [],
      "execution_count": null
    },
    {
      "cell_type": "code",
      "source": [
        "import matplotlib.pyplot as plt\n",
        "\n",
        "# Her sınıftan bir örnek görüntü gösterelim\n",
        "fig, axes = plt.subplots(2, 5, figsize=(15, 6))\n",
        "axes = axes.flatten()\n",
        "\n",
        "for i, (img, class_name) in enumerate(normalized_images[:10]):  # İlk 10 sınıfı alalım\n",
        "    axes[i].imshow(img)\n",
        "    axes[i].set_title(class_name)\n",
        "    axes[i].axis('off')\n",
        "\n",
        "plt.tight_layout()\n",
        "plt.show()\n"
      ],
      "metadata": {
        "trusted": true,
        "execution": {
          "iopub.status.busy": "2024-12-22T18:55:08.84479Z",
          "iopub.execute_input": "2024-12-22T18:55:08.845275Z",
          "iopub.status.idle": "2024-12-22T18:55:10.290027Z",
          "shell.execute_reply.started": "2024-12-22T18:55:08.845238Z",
          "shell.execute_reply": "2024-12-22T18:55:10.288395Z"
        },
        "id": "wnIe1n-cHzIF"
      },
      "outputs": [],
      "execution_count": null
    },
    {
      "cell_type": "code",
      "source": [
        "# Veri seti klasörünün yolunu belirtelim\n",
        "dataset_path = '/kaggle/input/animals-with-attributes-2/Animals_with_Attributes2/JPEGImages'\n",
        "selected_classes = ['collie', 'dolphin', 'elephant', 'fox', 'moose', 'rabbit', 'sheep', 'squirrel', 'giant panda', 'polar bear']\n",
        "output_path = '/kaggle/working/selected_images'\n",
        "\n",
        "# Seçilen sınıfları ve her sınıftan 650 resmi yeni bir klasöre kopyalayalım\n",
        "if not os.path.exists(output_path):\n",
        "    os.makedirs(output_path)\n",
        "\n",
        "for class_name in selected_classes:\n",
        "    class_folder = os.path.join(dataset_path, class_name.replace(' ', '+'))\n",
        "    output_class_folder = os.path.join(output_path, class_name.replace(' ', '+'))\n",
        "    if not os.path.exists(output_class_folder):\n",
        "        os.makedirs(output_class_folder)\n",
        "\n",
        "    images = os.listdir(class_folder)[:650]  # İlk 650 resmi seçelim\n",
        "    for image_name in images:\n",
        "        image_path = os.path.join(class_folder, image_name)\n",
        "        shutil.copy(image_path, output_class_folder)\n",
        "\n",
        "# Resimleri aynı boyuta getirme ve normalize etme\n",
        "image_size = (128, 128)  # İstediğiniz boyutu belirleyin\n",
        "X = []\n",
        "y = []\n",
        "\n",
        "for class_name in selected_classes:\n",
        "    class_folder = os.path.join(output_path, class_name.replace(' ', '+'))\n",
        "    for image_name in os.listdir(class_folder):\n",
        "        image_path = os.path.join(class_folder, image_name)\n",
        "        image = cv2.imread(image_path)\n",
        "        img_resized = cv2.resize(image, image_size)\n",
        "        img_normalized = img_resized / 255.0\n",
        "        X.append(img_normalized)\n",
        "        y.append(class_name)\n",
        "\n",
        "X = np.array(X)\n",
        "y = np.array(y)\n",
        "\n",
        "# Veriyi eğitim ve test setlerine ayıralım\n",
        "X_train, X_test, y_train, y_test = train_test_split(X, y, test_size=0.3, random_state=42)\n",
        "\n",
        "print(\"Eğitim seti boyutu:\", X_train.shape)\n",
        "print(\"Test seti boyutu:\", X_test.shape)\n"
      ],
      "metadata": {
        "trusted": true,
        "execution": {
          "iopub.status.busy": "2024-12-22T18:57:09.560228Z",
          "iopub.execute_input": "2024-12-22T18:57:09.560625Z",
          "iopub.status.idle": "2024-12-22T18:58:22.711315Z",
          "shell.execute_reply.started": "2024-12-22T18:57:09.560578Z",
          "shell.execute_reply": "2024-12-22T18:58:22.710168Z"
        },
        "id": "HK6kSKTdHzIF"
      },
      "outputs": [],
      "execution_count": null
    },
    {
      "cell_type": "code",
      "source": [
        "# Eğitim setinden örnek görüntüler gösterelim\n",
        "fig, axes = plt.subplots(2, 5, figsize=(15, 6))\n",
        "axes = axes.flatten()\n",
        "\n",
        "for i in range(10):  # İlk 10 görüntüyü alalım\n",
        "    axes[i].imshow(X_train[i])\n",
        "    axes[i].set_title(y_train[i])\n",
        "    axes[i].axis('off')\n",
        "\n",
        "plt.tight_layout()\n",
        "plt.show()\n",
        "\n",
        "# Test setinden örnek görüntüler gösterelim\n",
        "fig, axes = plt.subplots(2, 5, figsize=(15, 6))\n",
        "axes = axes.flatten()\n",
        "\n",
        "for i in range(10):  # İlk 10 görüntüyü alalım\n",
        "    axes[i].imshow(X_test[i])\n",
        "    axes[i].set_title(y_test[i])\n",
        "    axes[i].axis('off')\n",
        "\n",
        "plt.tight_layout()\n",
        "plt.show()\n"
      ],
      "metadata": {
        "trusted": true,
        "execution": {
          "iopub.status.busy": "2024-12-22T18:58:22.71277Z",
          "iopub.execute_input": "2024-12-22T18:58:22.713143Z",
          "iopub.status.idle": "2024-12-22T18:58:25.388084Z",
          "shell.execute_reply.started": "2024-12-22T18:58:22.713097Z",
          "shell.execute_reply": "2024-12-22T18:58:25.386589Z"
        },
        "id": "ZiXaM2C2HzIG"
      },
      "outputs": [],
      "execution_count": null
    }
  ]
}